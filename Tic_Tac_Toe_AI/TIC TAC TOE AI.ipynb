{
 "cells": [
  {
   "cell_type": "code",
   "execution_count": 6,
   "id": "4ae2bf54-826d-4b1d-864f-b1ed3fb4b79b",
   "metadata": {},
   "outputs": [
    {
     "name": "stdout",
     "output_type": "stream",
     "text": [
      "  |   |  \n",
      "---------\n",
      "  |   |  \n",
      "---------\n",
      "  |   |  \n",
      "---------\n",
      "X |   |  \n",
      "---------\n",
      "  |   |  \n",
      "---------\n",
      "  |   |  \n",
      "---------\n"
     ]
    },
    {
     "name": "stdin",
     "output_type": "stream",
     "text": [
      "Enter row and column (0-2) for O:  1 1\n"
     ]
    },
    {
     "name": "stdout",
     "output_type": "stream",
     "text": [
      "X |   |  \n",
      "---------\n",
      "  | O |  \n",
      "---------\n",
      "  |   |  \n",
      "---------\n",
      "X | X |  \n",
      "---------\n",
      "  | O |  \n",
      "---------\n",
      "  |   |  \n",
      "---------\n"
     ]
    },
    {
     "name": "stdin",
     "output_type": "stream",
     "text": [
      "Enter row and column (0-2) for O:  0 2\n"
     ]
    },
    {
     "name": "stdout",
     "output_type": "stream",
     "text": [
      "X | X | O\n",
      "---------\n",
      "  | O |  \n",
      "---------\n",
      "  |   |  \n",
      "---------\n",
      "X | X | O\n",
      "---------\n",
      "  | O |  \n",
      "---------\n",
      "X |   |  \n",
      "---------\n"
     ]
    },
    {
     "name": "stdin",
     "output_type": "stream",
     "text": [
      "Enter row and column (0-2) for O:  1 2\n"
     ]
    },
    {
     "name": "stdout",
     "output_type": "stream",
     "text": [
      "X | X | O\n",
      "---------\n",
      "  | O | O\n",
      "---------\n",
      "X |   |  \n",
      "---------\n",
      "X | X | O\n",
      "---------\n",
      "X | O | O\n",
      "---------\n",
      "X |   |  \n",
      "---------\n",
      "X | X | O\n",
      "---------\n",
      "X | O | O\n",
      "---------\n",
      "X |   |  \n",
      "---------\n",
      "X wins!\n"
     ]
    }
   ],
   "source": [
    "def print_board(board):\n",
    "    for row in board:\n",
    "        print(\" | \".join(row))\n",
    "        print(\"-\" * 9)\n",
    "\n",
    "def evaluate(board):\n",
    "    for row in board:\n",
    "        if row.count('X') == 3:\n",
    "            return 10\n",
    "        elif row.count('O') == 3:\n",
    "            return -10\n",
    "    for col in range(3):\n",
    "        if all(board[row][col] == 'X' for row in range(3)):\n",
    "            return 10\n",
    "        elif all(board[row][col] == 'O' for row in range(3)):\n",
    "            return -10\n",
    "    if all(board[i][i] == 'X' for i in range(3)) or all(board[i][2 - i] == 'X' for i in range(3)):\n",
    "        return 10\n",
    "    if all(board[i][i] == 'O' for i in range(3)) or all(board[i][2 - i] == 'O' for i in range(3)):\n",
    "        return -10\n",
    "    return 0\n",
    "\n",
    "def is_full(board):\n",
    "    return all(cell != ' ' for row in board for cell in row)\n",
    "\n",
    "def minimax(board, depth, is_maximizing):\n",
    "    score = evaluate(board)\n",
    "    if score == 10:\n",
    "        return score - depth\n",
    "    if score == -10:\n",
    "        return score + depth\n",
    "    if is_full(board):\n",
    "        return 0\n",
    "\n",
    "    if is_maximizing:\n",
    "        best = -float('inf')\n",
    "        for row in range(3):\n",
    "            for col in range(3):\n",
    "                if board[row][col] == ' ':\n",
    "                    board[row][col] = 'X'\n",
    "                    best = max(best, minimax(board, depth + 1, not is_maximizing))\n",
    "                    board[row][col] = ' '\n",
    "        return best\n",
    "    else:\n",
    "        best = float('inf')\n",
    "        for row in range(3):\n",
    "            for col in range(3):\n",
    "                if board[row][col] == ' ':\n",
    "                    board[row][col] = 'O'\n",
    "                    best = min(best, minimax(board, depth + 1, not is_maximizing))\n",
    "                    board[row][col] = ' '\n",
    "        return best\n",
    "\n",
    "def find_best_move(board):\n",
    "    best_move = (-1, -1)\n",
    "    best_val = -float('inf')\n",
    "    for row in range(3):\n",
    "        for col in range(3):\n",
    "            if board[row][col] == ' ':\n",
    "                board[row][col] = 'X'\n",
    "                move_val = minimax(board, 0, False)\n",
    "                board[row][col] = ' '\n",
    "                if move_val > best_val:\n",
    "                    best_val = move_val\n",
    "                    best_move = (row, col)\n",
    "    return best_move\n",
    "\n",
    "def main():\n",
    "    board = [[' ' for _ in range(3)] for _ in range(3)]\n",
    "    player = 'X'\n",
    "    while True:\n",
    "        print_board(board)\n",
    "        if is_full(board) or evaluate(board) != 0:\n",
    "            break\n",
    "\n",
    "        if player == 'X':\n",
    "            row, col = find_best_move(board)\n",
    "            board[row][col] = 'X'\n",
    "            player = 'O'\n",
    "        else:\n",
    "            row, col = map(int, input(\"Enter row and column (0-2) for O: \").split())\n",
    "            if board[row][col] == ' ':\n",
    "                board[row][col] = 'O'\n",
    "                player = 'X'\n",
    "            else:\n",
    "                print(\"Invalid move. Try again.\")\n",
    "\n",
    "    print_board(board)\n",
    "    score = evaluate(board)\n",
    "    if score == 10:\n",
    "        print(\"X wins!\")\n",
    "    elif score == -10:\n",
    "        print(\"O wins!\")\n",
    "    else:\n",
    "        print(\"It's a draw!\")\n",
    "\n",
    "if __name__ == \"__main__\":\n",
    "    main()\n"
   ]
  },
  {
   "cell_type": "code",
   "execution_count": null,
   "id": "3d5566ab-ad1d-424f-a2c1-9d5d76ff95f4",
   "metadata": {},
   "outputs": [],
   "source": []
  }
 ],
 "metadata": {
  "kernelspec": {
   "display_name": "Python 3 (ipykernel)",
   "language": "python",
   "name": "python3"
  },
  "language_info": {
   "codemirror_mode": {
    "name": "ipython",
    "version": 3
   },
   "file_extension": ".py",
   "mimetype": "text/x-python",
   "name": "python",
   "nbconvert_exporter": "python",
   "pygments_lexer": "ipython3",
   "version": "3.11.4"
  }
 },
 "nbformat": 4,
 "nbformat_minor": 5
}
