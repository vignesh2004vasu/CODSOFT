{
 "cells": [
  {
   "cell_type": "code",
   "execution_count": null,
   "id": "56d760f9-d789-40f6-9b64-1318610f272e",
   "metadata": {},
   "outputs": [
    {
     "name": "stdout",
     "output_type": "stream",
     "text": [
      "Greeting,Hi i am ChatBot with Rule-Based Responses\n",
      "You can ask me questions and i will answer to it based one the rules set \n"
     ]
    },
    {
     "name": "stdin",
     "output_type": "stream",
     "text": [
      "You:  laptop\n"
     ]
    },
    {
     "name": "stdout",
     "output_type": "stream",
     "text": [
      "Chatbot: The top laptop brands are Acer,Dell,Asus,HP \n"
     ]
    },
    {
     "name": "stdin",
     "output_type": "stream",
     "text": [
      "You:  what is a mobile\n"
     ]
    },
    {
     "name": "stdout",
     "output_type": "stream",
     "text": [
      "Chatbot: The top mobile brands are\n"
     ]
    },
    {
     "name": "stdin",
     "output_type": "stream",
     "text": [
      "You:  hello\n"
     ]
    },
    {
     "name": "stdout",
     "output_type": "stream",
     "text": [
      "Chatbot: Greetings!\n"
     ]
    },
    {
     "name": "stdin",
     "output_type": "stream",
     "text": [
      "You:  how are you\n"
     ]
    },
    {
     "name": "stdout",
     "output_type": "stream",
     "text": [
      "Chatbot: I'm doing fine, thanks.\n"
     ]
    },
    {
     "name": "stdin",
     "output_type": "stream",
     "text": [
      "You:  what are you\n"
     ]
    },
    {
     "name": "stdout",
     "output_type": "stream",
     "text": [
      "Chatbot: I'm not sure how to respond to that.\n"
     ]
    }
   ],
   "source": [
    "import random\n",
    "\n",
    "rules = {\n",
    "    \n",
    "    \"hello\": [\"Hello!\", \"Hi there!\", \"Greetings!\"],\n",
    "    \"how are you\": [\"I'm just a bot.\", \"I'm doing fine, thanks.\"],\n",
    "    \"bye\": [\"Goodbye!\", \"See you later!\", \"Take care!\"],\n",
    "    \"tell me a joke\": [\"Why don't scientists trust atoms? Because they make up everything!\", \"What do you call a fish with no eyes? Fsh!\"],\n",
    "    \"weather\": [\"I'm sorry, I don't have access to real-time weather information.\"],\n",
    "    \"help\": [\"How can I assist you today?\", \"I'm here to answer your questions.\"],\n",
    "    \"age\": [\"I'm just a computer program, so I don't have an age.\"],\n",
    "    \"thanks\": [\"You're welcome!\", \"Anytime!\", \"No problem!\"],\n",
    "    \"what can you do\": [\"I can answer questions, tell jokes, and have basic conversations.\"],\n",
    "    \"where are you from\": [\"I exist in the digital realm, so you can find me online.\"],\n",
    "    \"favourite color\": [\"I don't have preferences; I'm just a text-based program.\"],\n",
    "    \"tell me a fact\": [\"Sure! Did you know that honey never spoils? Archaeologists have found pots of honey in ancient Egyptian tombs that are over 3,000 years old and still perfectly edible.\"],\n",
    "    \"laptop\":[\"The top laptop brands are Acer,Dell,Asus,HP \"],\n",
    "    \"mobile\":[\"The top mobile brands are Apple,Samsung,OnePlus,Xiaomi\"]\n",
    "}\n",
    "\n",
    "print(\"Greeting,Hi i am ChatBot with Rule-Based Responses\")\n",
    "print(\"You can ask me questions and i will answer to it based one the rules set \")\n",
    "\n",
    "def generate_response(user_input):\n",
    "    user_tokens = user_input.lower().split()\n",
    "    response = \"I'm not sure how to respond to that.\"\n",
    "\n",
    "    for key in rules:\n",
    "        key_tokens = key.split()\n",
    "        if all(token in user_tokens for token in key_tokens):\n",
    "            response = random.choice(rules[key])\n",
    "            break\n",
    "\n",
    "    if \"hello\" in user_tokens or \"hi\" in user_tokens:\n",
    "        response = random.choice(rules[\"hello\"])\n",
    "\n",
    "    if \"fact\" in user_tokens:\n",
    "        response = random.choice(rules[\"tell me a fact\"])\n",
    "\n",
    "    if \"color\" in user_tokens:\n",
    "        response = random.choice(rules[\"favourite color\"])\n",
    "\n",
    "    if \"joke\" in user_tokens:\n",
    "        response = random.choice(rules[\"tell me a joke\"])\n",
    "\n",
    "    if \"laptop\" in user_tokens:\n",
    "        response = random.choice(rules[\"laptop\"])\n",
    "\n",
    "    return response\n",
    "\n",
    "while True:\n",
    "    user_input = input(\"You: \")\n",
    "    if user_input.lower() == \"exit\":\n",
    "        print(\"Chatbot: Goodbye!\")\n",
    "        break\n",
    "    else:\n",
    "        response = generate_response(user_input)\n",
    "        print(\"Chatbot:\", response)\n",
    "\n",
    "\n",
    "lapto"
   ]
  },
  {
   "cell_type": "code",
   "execution_count": null,
   "id": "ab50aab9-0f7b-4bb0-929e-86084b315ac0",
   "metadata": {},
   "outputs": [],
   "source": []
  }
 ],
 "metadata": {
  "kernelspec": {
   "display_name": "Python 3 (ipykernel)",
   "language": "python",
   "name": "python3"
  },
  "language_info": {
   "codemirror_mode": {
    "name": "ipython",
    "version": 3
   },
   "file_extension": ".py",
   "mimetype": "text/x-python",
   "name": "python",
   "nbconvert_exporter": "python",
   "pygments_lexer": "ipython3",
   "version": "3.11.4"
  }
 },
 "nbformat": 4,
 "nbformat_minor": 5
}
