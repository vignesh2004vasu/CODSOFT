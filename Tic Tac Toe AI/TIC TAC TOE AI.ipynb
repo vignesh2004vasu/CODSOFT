{
 "cells": [
  {
   "cell_type": "code",
   "execution_count": 1,
   "id": "e51efa5f-8228-4cbd-843e-dd037dbcab42",
   "metadata": {},
   "outputs": [
    {
     "name": "stdout",
     "output_type": "stream",
     "text": [
      " | | \n",
      "-----\n",
      " | | \n",
      "-----\n",
      " | | \n",
      "-----\n"
     ]
    },
    {
     "name": "stdin",
     "output_type": "stream",
     "text": [
      "Enter row and col (0 2) seperated by space:  1 1\n"
     ]
    },
    {
     "name": "stdout",
     "output_type": "stream",
     "text": [
      " | | \n",
      "-----\n",
      " |X| \n",
      "-----\n",
      " | | \n",
      "-----\n",
      "AI's move: 0, 0\n",
      "0| | \n",
      "-----\n",
      " |X| \n",
      "-----\n",
      " | | \n",
      "-----\n"
     ]
    },
    {
     "name": "stdin",
     "output_type": "stream",
     "text": [
      "Enter row and col (0 2) seperated by space:  1 2\n"
     ]
    },
    {
     "name": "stdout",
     "output_type": "stream",
     "text": [
      "0| | \n",
      "-----\n",
      " |X|X\n",
      "-----\n",
      " | | \n",
      "-----\n",
      "AI's move: 1, 0\n",
      "0| | \n",
      "-----\n",
      "0|X|X\n",
      "-----\n",
      " | | \n",
      "-----\n"
     ]
    },
    {
     "name": "stdin",
     "output_type": "stream",
     "text": [
      "Enter row and col (0 2) seperated by space:  2 0\n"
     ]
    },
    {
     "name": "stdout",
     "output_type": "stream",
     "text": [
      "0| | \n",
      "-----\n",
      "0|X|X\n",
      "-----\n",
      "X| | \n",
      "-----\n",
      "AI's move: 0, 2\n",
      "0| |0\n",
      "-----\n",
      "0|X|X\n",
      "-----\n",
      "X| | \n",
      "-----\n"
     ]
    },
    {
     "name": "stdin",
     "output_type": "stream",
     "text": [
      "Enter row and col (0 2) seperated by space:  0 1\n"
     ]
    },
    {
     "name": "stdout",
     "output_type": "stream",
     "text": [
      "0|X|0\n",
      "-----\n",
      "0|X|X\n",
      "-----\n",
      "X| | \n",
      "-----\n",
      "AI's move: 2, 1\n",
      "0|X|0\n",
      "-----\n",
      "0|X|X\n",
      "-----\n",
      "X|0| \n",
      "-----\n"
     ]
    },
    {
     "name": "stdin",
     "output_type": "stream",
     "text": [
      "Enter row and col (0 2) seperated by space:  2 2\n"
     ]
    },
    {
     "name": "stdout",
     "output_type": "stream",
     "text": [
      "0|X|0\n",
      "-----\n",
      "0|X|X\n",
      "-----\n",
      "X|0|X\n",
      "-----\n",
      "Its a tie\n"
     ]
    }
   ],
   "source": [
    "from typing import List, Tuple, Optional\n",
    "\n",
    "def create_board() -> List[List[str]]:\n",
    "    \"\"\"Create and return a 3x3 Tic-Tac-Toe board.\"\"\"\n",
    "    return [[\" \" for _ in range(3)] for _ in range(3)]\n",
    "\n",
    "def print_board(board: List[List[str]]) -> None:\n",
    "    \"\"\"Prints the Tic-Tac-Toe Board\"\"\"\n",
    "    for row in board:\n",
    "        print(\"|\".join(row))\n",
    "        print(\"-----\")\n",
    "\n",
    "def is_move_valid(board: List[List[str]], row: int, col: int)-> bool:\n",
    "    \"\"\"Checks if the given move is valid or not\"\"\"\n",
    "    return board[row][col]==' '\n",
    "\n",
    "def make_move(board: List[List[str]], row: int, col: int, player) -> None:\n",
    "    \"\"\"Place the player's symbol (either X or O) at a given position\"\"\"\n",
    "    board[row][col] = player\n",
    "\n",
    "def is_winner(board: List[List[str]], player: str) -> bool:\n",
    "    \"\"\"Check if the given player has won the game\"\"\"\n",
    "    for i in range(3):\n",
    "        if all([cell==player for cell in board[i]]) or all([board[j][i] == player for j in range(3)]):\n",
    "            return True\n",
    "    if (board[0][0] == board[1][1] == board[2][2] == player or board[0][2] == board[1][1] == board[2][0] == player):\n",
    "        return True\n",
    "    \n",
    "def is_game_over(board: List[List[str]]) -> bool:\n",
    "    \"\"\"Check if the game is Over(Either one player wins or it is a draw)\"\"\"\n",
    "    return is_winner(board, player='X') or is_winner(board, player='O') or all(\" \" not in row for row in board)\n",
    "\n",
    "def minimax(board: List[List[str]], depth: int, maximizing_player: bool) -> int:\n",
    "    if is_winner(board, \"X\"):\n",
    "        return -1\n",
    "    if is_winner(board, \"0\"):\n",
    "        return 1\n",
    "    if is_game_over(board):\n",
    "        return 0\n",
    "    \n",
    "    if maximizing_player:\n",
    "        best_score = float('-inf')\n",
    "        for row in range(3):\n",
    "            for col in range(3):\n",
    "                if is_move_valid(board, row, col):\n",
    "                    board[row][col] = \"0\"\n",
    "                    score = minimax(board, depth+1, False)\n",
    "                    board[row][col] = \" \"\n",
    "                    best_score = max(score, best_score)\n",
    "        return best_score\n",
    "    else:\n",
    "        best_score = float('inf')\n",
    "        for row in range(3):\n",
    "            for col in range(3):\n",
    "                if is_move_valid(board, row, col):\n",
    "                    board[row][col] = \"X\"\n",
    "                    score = minimax(board, depth+1, True)\n",
    "                    board[row][col] = \" \"\n",
    "                    best_score = min(score, best_score)\n",
    "        return best_score\n",
    "\n",
    "def find_best_move(board: List[List[str]]) -> Tuple[int, int]:\n",
    "    best_score = float('-inf')\n",
    "    best_move = None\n",
    "    for row in range(3):\n",
    "        for col in range(3):\n",
    "            if is_move_valid(board, row, col):\n",
    "                board[row][col] = \"0\"\n",
    "                score = minimax(board, 0, False)\n",
    "                board[row][col] = \" \"\n",
    "                if score > best_score:\n",
    "                    best_score = score\n",
    "                    best_move = (row, col)\n",
    "    return best_move\n",
    "\n",
    "def play_game() -> None:\n",
    "    \"\"\"Main function\"\"\"\n",
    "    board = create_board()\n",
    "    current_player = 'X'\n",
    "    print_board(board)\n",
    "    while not is_game_over(board):\n",
    "        if current_player == 'X':\n",
    "            row, col = map(int, input('Enter row and col (0 2) seperated by space: ').split())\n",
    "        else: # AI's turn\n",
    "            row, col = find_best_move(board)\n",
    "            print(f\"AI's move: {row}, {col}\")\n",
    "\n",
    "        if is_move_valid(board, row, col):\n",
    "            make_move(board, row, col, current_player)\n",
    "            print_board(board)\n",
    "            if is_winner(board, current_player):\n",
    "                print(f\"{current_player} wins\")\n",
    "                break\n",
    "\n",
    "            current_player = \"0\" if current_player == \"X\" else \"X\"\n",
    "        else:\n",
    "            print(\"Invalid move. Try again\")\n",
    "    else:\n",
    "        print(\"Its a tie\")\n",
    "\n",
    "\n",
    "\n",
    "if __name__=='__main__':\n",
    "    play_game()"
   ]
  },
  {
   "cell_type": "code",
   "execution_count": null,
   "id": "a1ebe3d1-6b14-4c97-8866-8db15f0b48ee",
   "metadata": {},
   "outputs": [],
   "source": []
  }
 ],
 "metadata": {
  "kernelspec": {
   "display_name": "Python 3 (ipykernel)",
   "language": "python",
   "name": "python3"
  },
  "language_info": {
   "codemirror_mode": {
    "name": "ipython",
    "version": 3
   },
   "file_extension": ".py",
   "mimetype": "text/x-python",
   "name": "python",
   "nbconvert_exporter": "python",
   "pygments_lexer": "ipython3",
   "version": "3.11.4"
  }
 },
 "nbformat": 4,
 "nbformat_minor": 5
}
